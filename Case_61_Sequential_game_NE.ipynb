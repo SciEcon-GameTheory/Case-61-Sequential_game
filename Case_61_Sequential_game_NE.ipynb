{
  "nbformat": 4,
  "nbformat_minor": 2,
  "metadata": {
    "colab": {
      "name": "Case-61-Sequential-game-NE.ipynb",
      "provenance": [],
      "collapsed_sections": []
    },
    "kernelspec": {
      "name": "python3",
      "display_name": "Python 3"
    },
    "language_info": {
      "name": "python"
    }
  },
  "cells": [
    {
      "cell_type": "markdown",
      "source": [
        "<font size = 6> 61 - It will cost you nothing to \"kill\" a Proof-of-Stake\n",
        "crypto-currency </font>"
      ],
      "metadata": {
        "id": "iN68PntWkTcJ"
      }
    },
    {
      "cell_type": "markdown",
      "source": [
        "<font face = Times size=4>\n",
        "\n",
        "***Backgrounds - How Bitcoin actually works:***\n",
        "\n",
        "The blockchain is a public ledger that contains the history of all the transactrions in bitcoins ever processed. It is the role of the miners to do this work of confirming and securing transactions. Practically, this mining process consists in solving a mathematical problem and the first miner to do so, technically to bring a proof-of-work (POW), can insert a set of transactions in the blockchain. As it requires computational resources, the the successful miner is rewarded in bitcoins for his useful work. In order to control the monetary base, mining is made more complex than it could be. And since the probability for each miner to solve the mining problem depends on his computational power, the mining complexity is made dependent on the total computational power of the miners. To sum up, for POW crypto-currencies, including Bitcoin, miners are in competition to solve a problem eeded to confirm and secure transactions. The first miner to solve the problem earns a reward. The problem is made artificially complex in order to control the monetary base.\n",
        "This process is described as brilliant by some but it has been criticized for the inefficiency due to the loss of resources it induces (see [Krugman, 2013] for instance). Indeed, Bitcoin miners have engaged in an arm race to computational power and in the end, much hardware, engineering and power are used in order to solve mathematical problems that are artificially made extremely complex.\n",
        "\n",
        "As it requires trust in the system to be adopted, Bitcoin is open-source. Hence, many alternative crypto-currencies have been proposed at almost no cost. Each supposedly solves some Bitcoin faws. Naturally, some of those crypto-currencies try to tackle the problem of the inefficiency due to the POW aspect of Bitcoin. Most of these crypto-currencies are based on another mining process, called proof-of-stake (POS). For the sake of simplicity and with a slight lack of rigor, let us just say that with POS, the expected reward for inserting transactions in the blockchain does not depend on the computational power of miners but on the amount of crypto-currency they already own. Peercoin and Nxtcoin are two alternative\n",
        "crypto-currencies that use POS (the former partially, the later ompletely).\n",
        "\n",
        "</font>"
      ],
      "metadata": {
        "id": "gmdZPczOleVK"
      }
    },
    {
      "cell_type": "markdown",
      "source": [
        "<font face = Times size=4>\n",
        "\n",
        "***Research Question:***\n",
        "\n",
        "Let us now explain a weakness of all crypto-currencies. Roughly speaking, regardless on it using POW or POS, any crypto-currency cannot be trusted if one individual can mine too many blocks in expectation (see [Kroll et al., 2013], [Eyal and Sirer, 2013]). In a POW crypto-currency, the condition of what is called a \"51% attack\" and that would totally un-\n",
        "dermine the value of the money, is that an individual owns strictly more than 50% of the total computational power of the network. In a POS crypto-currency, the same attack would happen if an individual owns strictly more than 50% of the monetary base.3 It is believed in the crypto-currency community that a 51% attack is less likely to occur in a POS system than in a POW system because it would be more expensive (in direct and opportunity costs) for a malicious agent to buy 50% of a POS crypto-currency than 50% of the computational power of a POW network (see [Bitcoin Wiki, 2014] for instance). **In this article, we show that not only this is not the case under some conditions but even that it would cost nothing for a malicious agent to buy 50% of a POS crypto-currency monetary base.**\n",
        "\n",
        "</font>"
      ],
      "metadata": {
        "id": "aYW8TGKRlFhh"
      }
    },
    {
      "cell_type": "markdown",
      "source": [
        "<font face = Times size=4>\n",
        "\n",
        "***Model:***\n",
        "\n",
        "Let us consider a set of $N+1$ agents with $N>2$. Each agent is indexed by an integer in $\\{0, \\ldots, N\\}$. There are two goods in the economy, a crypto-currency (CC) and money.| There is no money liquidity constraint. Each agent is initially endowed with one unit of CC. CC yields a monetary interest $r$ for each unit of time. This interest rate embodies the utility that can be extracted from using CC as a mean of exchange. The time discount factor of all agents is $\\beta$. CC loses all its utility whenever an agent holds strictly more than half $((N+1) / 2)$ of the CC units. Agent 0 has a special interest in killing the CC we study. Hence, he earns $U$ if an agent holds strictly more than $(N+1) / 2$ units of $\\mathrm{CC}$.\n",
        "\n",
        "$\\mathrm{CC}$ can be exchanged on a market. We are especially interested in situations where one agent (specifically agent 0 ) may be willing to hold more than half of the CC quantity. Hence, we cannot just use the usual supply-demand model that makes the assumption that agents are atomistic. We need to go further in the description of the market. At each time step, agent 0 is matched with the same probability with any other agent that holds some CC unit, say $i$. Agent 0 makes a \"take or leave\" price offer to $i$ in order to buy his unit of $\\mathrm{CC} . i$ accepts or not the offer. Exchange takes place or not depending on the offer by 0 and the acceptance decision by $i$. The time step between two matching is $d t$, arbitrarily short. We will denote $V(n)$ the expected discounted future flow of money earned by any agent $i>0$ holding one unit of CC where $n$ is the number of CC units held by 0. $V_{0}(n)$ is the expected discounted future flow of money earned by agent 0 where $n$ is the number of CC units he holds.\n",
        "\n",
        "Obviously, the step \"offer by 0, take or leave by $i^{\\prime \\prime}$ has a simple outcome: either 0 makes the cheapest offer that will be accepted or he makes an offer that will be rejected. In the first case, $i$ 's unit of CC changes hand for $(1-\\beta d t) V(n)$.\n",
        "\n",
        "Once this step outcome is computed, we can simply write the dynamics of $V$ and $V_{0}$. Precisely,\n",
        "\n",
        "\\begin{aligned}\n",
        "&V_{0}(n)= \\begin{cases}U & \\text { if } n \\geq \\frac{n+1}{2} \\\\ n . r . d t+(1-\\beta . d t) \\max \\left\\{V_{0}(n+1)-V(n), V_{0}(n)\\right\\} & \\text { otherwise }\\end{cases}\\\\\n",
        "&\\text { and }\\\\\n",
        "&V(n)= \\begin{cases}0 & \\text { if } n \\geq \\frac{n+1}{2} \\\\\n",
        "r . d t+(1-\\beta . d t)\\left(\\begin{array}{l}\n",
        "p(n) V(n)+ \\\\\n",
        "(1-p(n))\\left(\\left(1-P^{e}(n)\\right) V(n)+P^{e}(n) V(n+1)\\right)\n",
        "\\end{array}\\right) & \\text { otherwise }\\end{cases}\n",
        "\\end{aligned}\n",
        "\n",
        "where $p(n)=1 /(N-n)$ is the probability for any agent holding some $\\mathrm{CC}$ to be matched with agent 0 when the latter holds $n$ units of $\\mathrm{CC}$ and $P^{e}(n)$ is the belief that an agent different from 0 has that agent 0 will buy one more unit of $\\mathrm{CC}$ when he already holds $n$.\n",
        "\n",
        "</font>"
      ],
      "metadata": {
        "id": "u7DYVtP1n68s"
      }
    },
    {
      "cell_type": "markdown",
      "source": [
        "<font face = Times size=4>\n",
        "\n",
        "***Nash Equilibria:***\n",
        "\n",
        "The first Nash equilibrium: $P^{e}(n)=1, V(n)$ arbitrarily close to 0 when $d t$ tends to 0 and $V_{0}(n)$ arbitrarily close to $U$. This equilibrium is subgame perfect if and only if $U>r(n+1) / \\beta .$ \n",
        "\n",
        "The second Nash equilibrium:  $P^{e}(n)=0, V(n)=r / \\beta$ and $V_{0}(n)=n r / \\beta$. This equilibrium is subgame perfect if and only if $U \\leq r(n+1) / \\beta$. \n",
        "\n",
        "Then, there are two equilibria for our game. In the first one, when $U>r(N+1) / \\beta$, **agent 0 buys strictly more than half of the coins and actually kills the CC. Since this is anticipated by all the other agents, the latter are in competition to sell to agent 0 their coins, who they know have already no value.** The attack can be undertaken at no cost.\n",
        "\n",
        "In the second equilibrium, even if 0 accumulates enough CC coins, **he will have no incentive to cross the $50 \\%$ threshold because it is better for him to keep the coins and receive the interest flow that goes with it rather than kill the $\\mathrm{CC}$ at the expense of this flow. Anticipating this, the other agents are not ready to sell the CC units below their value, $r / \\beta$.** \n",
        "\n",
        "\n",
        "\n",
        "</font>"
      ],
      "metadata": {
        "id": "8Pw8PFK2og5H"
      }
    }
  ]
}